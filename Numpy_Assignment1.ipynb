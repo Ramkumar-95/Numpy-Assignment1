{
 "cells": [
  {
   "cell_type": "markdown",
   "id": "numerical-algorithm",
   "metadata": {},
   "source": [
    "## Use NumPy to generate an array of 25 random numbers sampled from a standard normal distribution"
   ]
  },
  {
   "cell_type": "code",
   "execution_count": 2,
   "id": "preliminary-aurora",
   "metadata": {},
   "outputs": [
    {
     "name": "stdout",
     "output_type": "stream",
     "text": [
      "25 random numbers from a standard normal distribution:\n",
      "[ 0.67629388  0.24565041 -0.58408238 -0.81056039 -1.8773199  -0.34776414\n",
      " -1.55750892  0.4600891   0.74450302  0.08629123  0.75886342  0.44917366\n",
      " -0.065672    0.62622     0.64953255  1.07786492  1.25973524 -0.6436162\n",
      "  1.31889368 -0.60357365  0.6394236  -0.22888922 -0.5928749   0.75523251\n",
      " -0.26511897]\n"
     ]
    }
   ],
   "source": [
    "import numpy as np\n",
    "rand_num = np.random.normal(0,1,25)\n",
    "print(\"25 random numbers from a standard normal distribution:\")\n",
    "print(rand_num)"
   ]
  },
  {
   "cell_type": "markdown",
   "id": "worse-houston",
   "metadata": {},
   "source": [
    "## Create a random vector of size 30 and find the mean value."
   ]
  },
  {
   "cell_type": "code",
   "execution_count": 3,
   "id": "peaceful-henry",
   "metadata": {},
   "outputs": [
    {
     "name": "stdout",
     "output_type": "stream",
     "text": [
      "0.6046707132237882\n"
     ]
    }
   ],
   "source": [
    "Z = np.random.random(10)\n",
    "m = Z.mean()\n",
    "print (m)"
   ]
  },
  {
   "cell_type": "markdown",
   "id": "finished-indonesia",
   "metadata": {},
   "source": [
    "## Insert 1 to 100 numbers in a NumPy array and reshape it to 10*10 matrix."
   ]
  },
  {
   "cell_type": "code",
   "execution_count": 4,
   "id": "knowing-investigation",
   "metadata": {},
   "outputs": [
    {
     "name": "stdout",
     "output_type": "stream",
     "text": [
      "[[ 0  1  2  3  4  5  6  7  8  9]\n",
      " [10 11 12 13 14 15 16 17 18 19]\n",
      " [20 21 22 23 24 25 26 27 28 29]\n",
      " [30 31 32 33 34 35 36 37 38 39]\n",
      " [40 41 42 43 44 45 46 47 48 49]\n",
      " [50 51 52 53 54 55 56 57 58 59]\n",
      " [60 61 62 63 64 65 66 67 68 69]\n",
      " [70 71 72 73 74 75 76 77 78 79]\n",
      " [80 81 82 83 84 85 86 87 88 89]\n",
      " [90 91 92 93 94 95 96 97 98 99]]\n"
     ]
    }
   ],
   "source": [
    "import numpy as np\n",
    "a = np.arange(100).reshape(10,10)\n",
    "print(a)"
   ]
  },
  {
   "cell_type": "markdown",
   "id": "elegant-method",
   "metadata": {},
   "source": [
    "## Create a 10x10 array with random values and find the minimum and maximum values."
   ]
  },
  {
   "cell_type": "code",
   "execution_count": 10,
   "id": "abroad-requirement",
   "metadata": {},
   "outputs": [
    {
     "name": "stdout",
     "output_type": "stream",
     "text": [
      "Original Array:\n",
      "[[0.87285607 0.63556022 0.80288797 0.90841118 0.94177614 0.22569043\n",
      "  0.99254818 0.57649975 0.52110738 0.56411459]\n",
      " [0.60652535 0.1937799  0.56186246 0.13304764 0.38208708 0.76264588\n",
      "  0.08466336 0.41779422 0.59784256 0.18805187]\n",
      " [0.88472685 0.96905979 0.5344797  0.18013172 0.43006916 0.27972513\n",
      "  0.99173822 0.99149405 0.50589559 0.26372464]\n",
      " [0.01382772 0.09613225 0.33897465 0.09524045 0.31736188 0.99188451\n",
      "  0.85236772 0.33122205 0.66050356 0.25149853]\n",
      " [0.02501313 0.7167919  0.74897432 0.61297352 0.55185917 0.99114899\n",
      "  0.00470542 0.09964997 0.55662814 0.64343869]\n",
      " [0.2784309  0.04898508 0.64998515 0.26316384 0.04195059 0.358206\n",
      "  0.30142059 0.75437473 0.00301593 0.25580397]\n",
      " [0.88262059 0.64406771 0.95224832 0.76187688 0.82397046 0.60343791\n",
      "  0.79267341 0.39533407 0.03537289 0.01637857]\n",
      " [0.39298652 0.2998484  0.46246069 0.01898151 0.79886999 0.38270945\n",
      "  0.27288213 0.33888797 0.95898449 0.08537421]\n",
      " [0.05199985 0.06180917 0.07926437 0.64222915 0.93867086 0.56324436\n",
      "  0.43590228 0.43845912 0.67289838 0.43658567]\n",
      " [0.10355239 0.08828365 0.91290225 0.96111122 0.89325685 0.75845995\n",
      "  0.00850405 0.58885557 0.83589638 0.83862219]]\n",
      "Minimum and Maximum Values:\n",
      "0.003015934284634203 0.992548184523968\n"
     ]
    }
   ],
   "source": [
    "import numpy as np\n",
    "x = np.random.random((10,10))\n",
    "print(\"Original Array:\")\n",
    "print(x) \n",
    "xmin, xmax = x.min(), x.max()\n",
    "print(\"Minimum and Maximum Values:\")\n",
    "print(xmin, xmax)"
   ]
  },
  {
   "cell_type": "markdown",
   "id": "unlike-allowance",
   "metadata": {},
   "source": [
    "## Find Dot product of two arrays f = np.array([1,2]) g = np.array([4,5])"
   ]
  },
  {
   "cell_type": "code",
   "execution_count": 9,
   "id": "young-basketball",
   "metadata": {},
   "outputs": [
    {
     "name": "stdout",
     "output_type": "stream",
     "text": [
      "14\n"
     ]
    }
   ],
   "source": [
    "f = np.array([1,2])\n",
    "\n",
    "g = np.array([4,5])\n",
    "print(np.dot(f,g, out=None))"
   ]
  },
  {
   "cell_type": "markdown",
   "id": "retained-terrace",
   "metadata": {},
   "source": [
    "## Concatenate following arrays along axis=0 x=np.array([[1,2],[3,4]]) y=np.array([[5,6]])"
   ]
  },
  {
   "cell_type": "code",
   "execution_count": 12,
   "id": "eleven-creativity",
   "metadata": {},
   "outputs": [
    {
     "name": "stdout",
     "output_type": "stream",
     "text": [
      "[[1 2]\n",
      " [3 4]\n",
      " [5 6]]\n"
     ]
    }
   ],
   "source": [
    "x=np.array([[1,2],[3,4]])\n",
    "\n",
    "y=np.array([[5,6]])\n",
    "print(np.concatenate((x,y), axis=0))"
   ]
  },
  {
   "cell_type": "markdown",
   "id": "buried-spirituality",
   "metadata": {},
   "source": [
    "## How to get the common items between two python NumPy arrays? a = np.array([1,2,3,2,3,4,3,4,5,6]) b = np.array([7,2,10,2,7,4,9,4,9,8])"
   ]
  },
  {
   "cell_type": "code",
   "execution_count": 13,
   "id": "neural-analysis",
   "metadata": {},
   "outputs": [
    {
     "name": "stdout",
     "output_type": "stream",
     "text": [
      "[2 4]\n"
     ]
    }
   ],
   "source": [
    "a = np.array([1,2,3,2,3,4,3,4,5,6])\n",
    "\n",
    "b = np.array([7,2,10,2,7,4,9,4,9,8])\n",
    "print(np.intersect1d(a,b))"
   ]
  },
  {
   "cell_type": "markdown",
   "id": "false-textbook",
   "metadata": {},
   "source": [
    "## Sort the numpy array: arr = np.array([10,5,8,4,7,2,3,1])"
   ]
  },
  {
   "cell_type": "code",
   "execution_count": 15,
   "id": "angry-ranking",
   "metadata": {},
   "outputs": [
    {
     "data": {
      "text/plain": [
       "array([ 1,  2,  3,  4,  5,  7,  8, 10])"
      ]
     },
     "execution_count": 15,
     "metadata": {},
     "output_type": "execute_result"
    }
   ],
   "source": [
    "arr = np.array([10,5,8,4,7,2,3,1])\n",
    "np.sort(arr)"
   ]
  },
  {
   "cell_type": "code",
   "execution_count": null,
   "id": "incident-horizontal",
   "metadata": {},
   "outputs": [],
   "source": []
  }
 ],
 "metadata": {
  "kernelspec": {
   "display_name": "Python 3",
   "language": "python",
   "name": "python3"
  },
  "language_info": {
   "codemirror_mode": {
    "name": "ipython",
    "version": 3
   },
   "file_extension": ".py",
   "mimetype": "text/x-python",
   "name": "python",
   "nbconvert_exporter": "python",
   "pygments_lexer": "ipython3",
   "version": "3.9.5"
  }
 },
 "nbformat": 4,
 "nbformat_minor": 5
}
